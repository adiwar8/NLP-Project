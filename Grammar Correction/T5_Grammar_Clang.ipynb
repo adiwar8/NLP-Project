{
  "cells": [
    {
      "cell_type": "markdown",
      "metadata": {
        "id": "PlNF-_DjfgtK"
      },
      "source": [
        "\n",
        "# **Install libraries**"
      ]
    },
    {
      "cell_type": "code",
      "execution_count": 1,
      "metadata": {
        "colab": {
          "base_uri": "https://localhost:8080/"
        },
        "id": "04jwVrdr9sdb",
        "outputId": "e695fe2d-4447-4853-91d8-110b4a68fbae"
      },
      "outputs": [
        {
          "output_type": "stream",
          "name": "stdout",
          "text": [
            "Drive already mounted at /content/drive; to attempt to forcibly remount, call drive.mount(\"/content/drive\", force_remount=True).\n"
          ]
        }
      ],
      "source": [
        "from google.colab import drive\n",
        "drive.mount('/content/drive')"
      ]
    },
    {
      "cell_type": "code",
      "execution_count": 2,
      "metadata": {
        "colab": {
          "base_uri": "https://localhost:8080/"
        },
        "id": "BGiskWK4_6b-",
        "outputId": "105098c0-1200-46bd-924d-b87042624b80"
      },
      "outputs": [
        {
          "output_type": "stream",
          "name": "stdout",
          "text": [
            "Looking in indexes: https://pypi.org/simple, https://us-python.pkg.dev/colab-wheels/public/simple/\n",
            "Requirement already satisfied: datasets in /usr/local/lib/python3.9/dist-packages (2.11.0)\n",
            "Requirement already satisfied: tqdm in /usr/local/lib/python3.9/dist-packages (4.65.0)\n",
            "Requirement already satisfied: pandas in /usr/local/lib/python3.9/dist-packages (1.4.4)\n",
            "Requirement already satisfied: responses<0.19 in /usr/local/lib/python3.9/dist-packages (from datasets) (0.18.0)\n",
            "Requirement already satisfied: pyyaml>=5.1 in /usr/local/lib/python3.9/dist-packages (from datasets) (6.0)\n",
            "Requirement already satisfied: huggingface-hub<1.0.0,>=0.11.0 in /usr/local/lib/python3.9/dist-packages (from datasets) (0.14.0)\n",
            "Requirement already satisfied: pyarrow>=8.0.0 in /usr/local/lib/python3.9/dist-packages (from datasets) (9.0.0)\n",
            "Requirement already satisfied: xxhash in /usr/local/lib/python3.9/dist-packages (from datasets) (3.2.0)\n",
            "Requirement already satisfied: dill<0.3.7,>=0.3.0 in /usr/local/lib/python3.9/dist-packages (from datasets) (0.3.6)\n",
            "Requirement already satisfied: packaging in /usr/local/lib/python3.9/dist-packages (from datasets) (23.0)\n",
            "Requirement already satisfied: multiprocess in /usr/local/lib/python3.9/dist-packages (from datasets) (0.70.14)\n",
            "Requirement already satisfied: fsspec[http]>=2021.11.1 in /usr/local/lib/python3.9/dist-packages (from datasets) (2023.3.0)\n",
            "Requirement already satisfied: aiohttp in /usr/local/lib/python3.9/dist-packages (from datasets) (3.8.4)\n",
            "Requirement already satisfied: requests>=2.19.0 in /usr/local/lib/python3.9/dist-packages (from datasets) (2.27.1)\n",
            "Requirement already satisfied: numpy>=1.17 in /usr/local/lib/python3.9/dist-packages (from datasets) (1.22.4)\n",
            "Requirement already satisfied: python-dateutil>=2.8.1 in /usr/local/lib/python3.9/dist-packages (from pandas) (2.8.2)\n",
            "Requirement already satisfied: pytz>=2020.1 in /usr/local/lib/python3.9/dist-packages (from pandas) (2022.7.1)\n",
            "Requirement already satisfied: frozenlist>=1.1.1 in /usr/local/lib/python3.9/dist-packages (from aiohttp->datasets) (1.3.3)\n",
            "Requirement already satisfied: charset-normalizer<4.0,>=2.0 in /usr/local/lib/python3.9/dist-packages (from aiohttp->datasets) (2.0.12)\n",
            "Requirement already satisfied: aiosignal>=1.1.2 in /usr/local/lib/python3.9/dist-packages (from aiohttp->datasets) (1.3.1)\n",
            "Requirement already satisfied: attrs>=17.3.0 in /usr/local/lib/python3.9/dist-packages (from aiohttp->datasets) (22.2.0)\n",
            "Requirement already satisfied: async-timeout<5.0,>=4.0.0a3 in /usr/local/lib/python3.9/dist-packages (from aiohttp->datasets) (4.0.2)\n",
            "Requirement already satisfied: yarl<2.0,>=1.0 in /usr/local/lib/python3.9/dist-packages (from aiohttp->datasets) (1.9.1)\n",
            "Requirement already satisfied: multidict<7.0,>=4.5 in /usr/local/lib/python3.9/dist-packages (from aiohttp->datasets) (6.0.4)\n",
            "Requirement already satisfied: typing-extensions>=3.7.4.3 in /usr/local/lib/python3.9/dist-packages (from huggingface-hub<1.0.0,>=0.11.0->datasets) (4.5.0)\n",
            "Requirement already satisfied: filelock in /usr/local/lib/python3.9/dist-packages (from huggingface-hub<1.0.0,>=0.11.0->datasets) (3.10.7)\n",
            "Requirement already satisfied: six>=1.5 in /usr/local/lib/python3.9/dist-packages (from python-dateutil>=2.8.1->pandas) (1.16.0)\n",
            "Requirement already satisfied: idna<4,>=2.5 in /usr/local/lib/python3.9/dist-packages (from requests>=2.19.0->datasets) (3.4)\n",
            "Requirement already satisfied: urllib3<1.27,>=1.21.1 in /usr/local/lib/python3.9/dist-packages (from requests>=2.19.0->datasets) (1.26.15)\n",
            "Requirement already satisfied: certifi>=2017.4.17 in /usr/local/lib/python3.9/dist-packages (from requests>=2.19.0->datasets) (2022.12.7)\n"
          ]
        }
      ],
      "source": [
        "!pip install datasets tqdm pandas"
      ]
    },
    {
      "cell_type": "code",
      "execution_count": 3,
      "metadata": {
        "colab": {
          "base_uri": "https://localhost:8080/"
        },
        "id": "_d8OEpLA5Aii",
        "outputId": "603985f6-b895-4592-bb1d-729c902a36e8"
      },
      "outputs": [
        {
          "output_type": "stream",
          "name": "stdout",
          "text": [
            "Looking in indexes: https://pypi.org/simple, https://us-python.pkg.dev/colab-wheels/public/simple/\n",
            "Requirement already satisfied: sentencepiece in /usr/local/lib/python3.9/dist-packages (0.1.98)\n"
          ]
        }
      ],
      "source": [
        "!pip install sentencepiece"
      ]
    },
    {
      "cell_type": "code",
      "execution_count": 4,
      "metadata": {
        "colab": {
          "base_uri": "https://localhost:8080/"
        },
        "id": "CjKf77Z7EYpk",
        "outputId": "29b8cc9b-2f2a-4c28-e3b5-29e8d6b641ed"
      },
      "outputs": [
        {
          "output_type": "stream",
          "name": "stdout",
          "text": [
            "Looking in indexes: https://pypi.org/simple, https://us-python.pkg.dev/colab-wheels/public/simple/\n",
            "Requirement already satisfied: transformers in /usr/local/lib/python3.9/dist-packages (4.28.1)\n",
            "Requirement already satisfied: tqdm>=4.27 in /usr/local/lib/python3.9/dist-packages (from transformers) (4.65.0)\n",
            "Requirement already satisfied: filelock in /usr/local/lib/python3.9/dist-packages (from transformers) (3.10.7)\n",
            "Requirement already satisfied: numpy>=1.17 in /usr/local/lib/python3.9/dist-packages (from transformers) (1.22.4)\n",
            "Requirement already satisfied: packaging>=20.0 in /usr/local/lib/python3.9/dist-packages (from transformers) (23.0)\n",
            "Requirement already satisfied: tokenizers!=0.11.3,<0.14,>=0.11.1 in /usr/local/lib/python3.9/dist-packages (from transformers) (0.13.3)\n",
            "Requirement already satisfied: pyyaml>=5.1 in /usr/local/lib/python3.9/dist-packages (from transformers) (6.0)\n",
            "Requirement already satisfied: requests in /usr/local/lib/python3.9/dist-packages (from transformers) (2.27.1)\n",
            "Requirement already satisfied: regex!=2019.12.17 in /usr/local/lib/python3.9/dist-packages (from transformers) (2022.10.31)\n",
            "Requirement already satisfied: huggingface-hub<1.0,>=0.11.0 in /usr/local/lib/python3.9/dist-packages (from transformers) (0.14.0)\n",
            "Requirement already satisfied: typing-extensions>=3.7.4.3 in /usr/local/lib/python3.9/dist-packages (from huggingface-hub<1.0,>=0.11.0->transformers) (4.5.0)\n",
            "Requirement already satisfied: fsspec in /usr/local/lib/python3.9/dist-packages (from huggingface-hub<1.0,>=0.11.0->transformers) (2023.3.0)\n",
            "Requirement already satisfied: idna<4,>=2.5 in /usr/local/lib/python3.9/dist-packages (from requests->transformers) (3.4)\n",
            "Requirement already satisfied: urllib3<1.27,>=1.21.1 in /usr/local/lib/python3.9/dist-packages (from requests->transformers) (1.26.15)\n",
            "Requirement already satisfied: certifi>=2017.4.17 in /usr/local/lib/python3.9/dist-packages (from requests->transformers) (2022.12.7)\n",
            "Requirement already satisfied: charset-normalizer~=2.0.0 in /usr/local/lib/python3.9/dist-packages (from requests->transformers) (2.0.12)\n"
          ]
        }
      ],
      "source": [
        "!pip install transformers"
      ]
    },
    {
      "cell_type": "code",
      "execution_count": 5,
      "metadata": {
        "id": "0OaSKNC3AvaX"
      },
      "outputs": [],
      "source": [
        "import pandas as pd\n",
        "from datasets import load_dataset\n",
        "from tqdm import tqdm"
      ]
    },
    {
      "cell_type": "code",
      "execution_count": 6,
      "metadata": {
        "colab": {
          "base_uri": "https://localhost:8080/"
        },
        "id": "Pn-G_eUwFovO",
        "outputId": "69f740fa-43d3-44d6-e52e-66039ecea291"
      },
      "outputs": [
        {
          "output_type": "stream",
          "name": "stdout",
          "text": [
            "Tue Apr 25 15:08:59 2023       \n",
            "+-----------------------------------------------------------------------------+\n",
            "| NVIDIA-SMI 525.85.12    Driver Version: 525.85.12    CUDA Version: 12.0     |\n",
            "|-------------------------------+----------------------+----------------------+\n",
            "| GPU  Name        Persistence-M| Bus-Id        Disp.A | Volatile Uncorr. ECC |\n",
            "| Fan  Temp  Perf  Pwr:Usage/Cap|         Memory-Usage | GPU-Util  Compute M. |\n",
            "|                               |                      |               MIG M. |\n",
            "|===============================+======================+======================|\n",
            "|   0  Tesla T4            Off  | 00000000:00:04.0 Off |                    0 |\n",
            "| N/A   46C    P8     9W /  70W |      0MiB / 15360MiB |      0%      Default |\n",
            "|                               |                      |                  N/A |\n",
            "+-------------------------------+----------------------+----------------------+\n",
            "                                                                               \n",
            "+-----------------------------------------------------------------------------+\n",
            "| Processes:                                                                  |\n",
            "|  GPU   GI   CI        PID   Type   Process name                  GPU Memory |\n",
            "|        ID   ID                                                   Usage      |\n",
            "|=============================================================================|\n",
            "|  No running processes found                                                 |\n",
            "+-----------------------------------------------------------------------------+\n"
          ]
        }
      ],
      "source": [
        "# Check we have a GPU and check the memory size of the GPU\n",
        "!nvidia-smi"
      ]
    },
    {
      "cell_type": "markdown",
      "metadata": {
        "id": "H0n55Ex1Bl2k"
      },
      "source": [
        "# **Import packages**"
      ]
    },
    {
      "cell_type": "code",
      "execution_count": 7,
      "metadata": {
        "colab": {
          "base_uri": "https://localhost:8080/"
        },
        "id": "ht8Fu9U2-IRG",
        "outputId": "08490fea-1b77-4e81-c66f-bbcdcc5d9978"
      },
      "outputs": [
        {
          "output_type": "stream",
          "name": "stderr",
          "text": [
            "[nltk_data] Downloading package punkt to /root/nltk_data...\n",
            "[nltk_data]   Package punkt is already up-to-date!\n"
          ]
        }
      ],
      "source": [
        "import argparse\n",
        "import glob\n",
        "import os\n",
        "import json\n",
        "import time\n",
        "import logging\n",
        "import random\n",
        "import re\n",
        "from itertools import chain\n",
        "from string import punctuation\n",
        "\n",
        "import nltk\n",
        "nltk.download('punkt')\n",
        "from nltk.tokenize import sent_tokenize\n",
        "\n",
        "import pandas as pd\n",
        "import numpy as np\n",
        "import torch\n",
        "from torch.utils.data import Dataset, DataLoader\n",
        "\n",
        "from transformers import (\n",
        "    AdamW,\n",
        "    T5ForConditionalGeneration,\n",
        "    T5Tokenizer,\n",
        "    get_linear_schedule_with_warmup\n",
        ")"
      ]
    },
    {
      "cell_type": "markdown",
      "metadata": {
        "id": "Ykds8V47B1XT"
      },
      "source": [
        "# **Set a seed**"
      ]
    },
    {
      "cell_type": "code",
      "execution_count": 8,
      "metadata": {
        "id": "p03e0mY13jdV"
      },
      "outputs": [],
      "source": [
        "import random\n",
        "import numpy as np\n",
        "import torch\n",
        "import datasets"
      ]
    },
    {
      "cell_type": "code",
      "execution_count": 9,
      "metadata": {
        "id": "CyrYjMFREUCn"
      },
      "outputs": [],
      "source": [
        "def set_seed(seed):\n",
        "  random.seed(seed)\n",
        "  np.random.seed(seed)\n",
        "  torch.manual_seed(seed)\n",
        "\n",
        "set_seed(42)"
      ]
    },
    {
      "cell_type": "markdown",
      "metadata": {
        "id": "l7YZhzbl88AE"
      },
      "source": [
        "\n",
        "\n",
        "```\n",
        "# This is formatted as code\n",
        "```\n",
        "\n",
        "# ***CLANG-8 dataset***"
      ]
    },
    {
      "cell_type": "code",
      "execution_count": 10,
      "metadata": {
        "id": "bYqzCt4mfkoc"
      },
      "outputs": [],
      "source": [
        "pd.set_option('display.max_colwidth', None)"
      ]
    },
    {
      "cell_type": "code",
      "execution_count": 13,
      "metadata": {
        "colab": {
          "base_uri": "https://localhost:8080/"
        },
        "id": "SWQZdyVlfLL_",
        "outputId": "e1a8c8f2-a1e1-476d-94dd-b55a586df95d"
      },
      "outputs": [
        {
          "output_type": "stream",
          "name": "stderr",
          "text": [
            "<ipython-input-13-bd9c8bfee523>:1: FutureWarning: The error_bad_lines argument has been deprecated and will be removed in a future version. Use on_bad_lines in the future.\n",
            "\n",
            "\n",
            "  df = pd.read_table('/content/drive/MyDrive/c4_200m/clang8_source_target_en.spacy_tokenized.tsv', error_bad_lines=False)\n",
            "b'Skipping line 4958: expected 2 fields, saw 3\\nSkipping line 16194: expected 2 fields, saw 3\\nSkipping line 25235: expected 2 fields, saw 3\\nSkipping line 25710: expected 2 fields, saw 3\\nSkipping line 26283: expected 2 fields, saw 3\\nSkipping line 27115: expected 2 fields, saw 3\\nSkipping line 29809: expected 2 fields, saw 3\\nSkipping line 47655: expected 2 fields, saw 3\\nSkipping line 55291: expected 2 fields, saw 3\\nSkipping line 55946: expected 2 fields, saw 3\\nSkipping line 60210: expected 2 fields, saw 3\\nSkipping line 64424: expected 2 fields, saw 3\\nSkipping line 66795: expected 2 fields, saw 3\\nSkipping line 69214: expected 2 fields, saw 3\\nSkipping line 81244: expected 2 fields, saw 3\\nSkipping line 89459: expected 2 fields, saw 3\\nSkipping line 89813: expected 2 fields, saw 3\\nSkipping line 97182: expected 2 fields, saw 3\\nSkipping line 100802: expected 2 fields, saw 3\\nSkipping line 104128: expected 2 fields, saw 4\\nSkipping line 105517: expected 2 fields, saw 3\\nSkipping line 110387: expected 2 fields, saw 3\\nSkipping line 116303: expected 2 fields, saw 3\\nSkipping line 124339: expected 2 fields, saw 3\\nSkipping line 132438: expected 2 fields, saw 3\\nSkipping line 146873: expected 2 fields, saw 3\\nSkipping line 149194: expected 2 fields, saw 3\\nSkipping line 154411: expected 2 fields, saw 3\\nSkipping line 169552: expected 2 fields, saw 3\\nSkipping line 171669: expected 2 fields, saw 3\\nSkipping line 172181: expected 2 fields, saw 3\\nSkipping line 176500: expected 2 fields, saw 3\\nSkipping line 195482: expected 2 fields, saw 3\\nSkipping line 204053: expected 2 fields, saw 3\\nSkipping line 208045: expected 2 fields, saw 3\\nSkipping line 220625: expected 2 fields, saw 3\\nSkipping line 224204: expected 2 fields, saw 3\\nSkipping line 225049: expected 2 fields, saw 3\\nSkipping line 229384: expected 2 fields, saw 5\\nSkipping line 229782: expected 2 fields, saw 3\\nSkipping line 229807: expected 2 fields, saw 3\\nSkipping line 230473: expected 2 fields, saw 3\\nSkipping line 246951: expected 2 fields, saw 3\\nSkipping line 247005: expected 2 fields, saw 3\\nSkipping line 247941: expected 2 fields, saw 3\\nSkipping line 253041: expected 2 fields, saw 3\\nSkipping line 253709: expected 2 fields, saw 3\\nSkipping line 257451: expected 2 fields, saw 3\\n'\n",
            "b'Skipping line 266640: expected 2 fields, saw 4\\nSkipping line 273350: expected 2 fields, saw 3\\nSkipping line 273656: expected 2 fields, saw 4\\nSkipping line 277568: expected 2 fields, saw 3\\nSkipping line 286894: expected 2 fields, saw 3\\nSkipping line 286895: expected 2 fields, saw 3\\nSkipping line 292610: expected 2 fields, saw 3\\nSkipping line 296553: expected 2 fields, saw 5\\nSkipping line 296596: expected 2 fields, saw 3\\nSkipping line 299751: expected 2 fields, saw 3\\nSkipping line 300906: expected 2 fields, saw 3\\nSkipping line 316276: expected 2 fields, saw 3\\nSkipping line 317379: expected 2 fields, saw 3\\nSkipping line 317816: expected 2 fields, saw 3\\nSkipping line 322668: expected 2 fields, saw 3\\nSkipping line 323066: expected 2 fields, saw 3\\nSkipping line 324048: expected 2 fields, saw 3\\nSkipping line 329429: expected 2 fields, saw 3\\nSkipping line 333944: expected 2 fields, saw 3\\nSkipping line 336914: expected 2 fields, saw 3\\nSkipping line 348756: expected 2 fields, saw 3\\nSkipping line 352632: expected 2 fields, saw 3\\nSkipping line 353632: expected 2 fields, saw 3\\nSkipping line 353634: expected 2 fields, saw 4\\nSkipping line 366893: expected 2 fields, saw 3\\nSkipping line 368627: expected 2 fields, saw 3\\nSkipping line 373170: expected 2 fields, saw 3\\nSkipping line 378824: expected 2 fields, saw 3\\nSkipping line 386052: expected 2 fields, saw 3\\nSkipping line 390456: expected 2 fields, saw 3\\nSkipping line 392981: expected 2 fields, saw 4\\nSkipping line 397425: expected 2 fields, saw 3\\nSkipping line 406348: expected 2 fields, saw 3\\nSkipping line 409577: expected 2 fields, saw 4\\nSkipping line 409586: expected 2 fields, saw 3\\nSkipping line 410963: expected 2 fields, saw 3\\nSkipping line 418805: expected 2 fields, saw 3\\nSkipping line 421003: expected 2 fields, saw 3\\nSkipping line 424060: expected 2 fields, saw 3\\nSkipping line 425800: expected 2 fields, saw 3\\nSkipping line 445883: expected 2 fields, saw 3\\nSkipping line 447008: expected 2 fields, saw 3\\nSkipping line 449119: expected 2 fields, saw 3\\nSkipping line 459226: expected 2 fields, saw 3\\nSkipping line 459526: expected 2 fields, saw 3\\nSkipping line 469685: expected 2 fields, saw 3\\nSkipping line 469754: expected 2 fields, saw 3\\nSkipping line 477706: expected 2 fields, saw 3\\nSkipping line 477709: expected 2 fields, saw 3\\nSkipping line 482553: expected 2 fields, saw 3\\nSkipping line 486841: expected 2 fields, saw 3\\nSkipping line 499285: expected 2 fields, saw 4\\nSkipping line 499286: expected 2 fields, saw 4\\nSkipping line 507309: expected 2 fields, saw 3\\nSkipping line 508685: expected 2 fields, saw 3\\nSkipping line 509707: expected 2 fields, saw 3\\nSkipping line 518034: expected 2 fields, saw 4\\nSkipping line 518251: expected 2 fields, saw 4\\nSkipping line 518258: expected 2 fields, saw 3\\n'\n",
            "b'Skipping line 525891: expected 2 fields, saw 3\\nSkipping line 526133: expected 2 fields, saw 3\\nSkipping line 526765: expected 2 fields, saw 3\\nSkipping line 526786: expected 2 fields, saw 3\\nSkipping line 529134: expected 2 fields, saw 3\\nSkipping line 534354: expected 2 fields, saw 3\\nSkipping line 539189: expected 2 fields, saw 3\\nSkipping line 542523: expected 2 fields, saw 3\\nSkipping line 544764: expected 2 fields, saw 4\\nSkipping line 549384: expected 2 fields, saw 3\\nSkipping line 552405: expected 2 fields, saw 3\\nSkipping line 554437: expected 2 fields, saw 3\\nSkipping line 556115: expected 2 fields, saw 3\\nSkipping line 561931: expected 2 fields, saw 3\\nSkipping line 563740: expected 2 fields, saw 3\\nSkipping line 570480: expected 2 fields, saw 3\\nSkipping line 570794: expected 2 fields, saw 3\\nSkipping line 570923: expected 2 fields, saw 4\\nSkipping line 570947: expected 2 fields, saw 3\\nSkipping line 571061: expected 2 fields, saw 4\\nSkipping line 571063: expected 2 fields, saw 4\\nSkipping line 571213: expected 2 fields, saw 3\\nSkipping line 571280: expected 2 fields, saw 3\\nSkipping line 572532: expected 2 fields, saw 3\\nSkipping line 587772: expected 2 fields, saw 3\\nSkipping line 590702: expected 2 fields, saw 3\\nSkipping line 597496: expected 2 fields, saw 3\\nSkipping line 598222: expected 2 fields, saw 3\\nSkipping line 608108: expected 2 fields, saw 4\\nSkipping line 609985: expected 2 fields, saw 3\\nSkipping line 612339: expected 2 fields, saw 3\\nSkipping line 612779: expected 2 fields, saw 3\\nSkipping line 622674: expected 2 fields, saw 3\\nSkipping line 639262: expected 2 fields, saw 3\\nSkipping line 641742: expected 2 fields, saw 3\\nSkipping line 641826: expected 2 fields, saw 3\\nSkipping line 652200: expected 2 fields, saw 4\\nSkipping line 660001: expected 2 fields, saw 3\\nSkipping line 663647: expected 2 fields, saw 3\\nSkipping line 671720: expected 2 fields, saw 3\\nSkipping line 676355: expected 2 fields, saw 3\\nSkipping line 694146: expected 2 fields, saw 3\\nSkipping line 694166: expected 2 fields, saw 3\\nSkipping line 695763: expected 2 fields, saw 4\\nSkipping line 698644: expected 2 fields, saw 3\\nSkipping line 700885: expected 2 fields, saw 3\\nSkipping line 700887: expected 2 fields, saw 3\\nSkipping line 703918: expected 2 fields, saw 3\\nSkipping line 705462: expected 2 fields, saw 3\\nSkipping line 711788: expected 2 fields, saw 3\\nSkipping line 713599: expected 2 fields, saw 3\\nSkipping line 718606: expected 2 fields, saw 3\\nSkipping line 731359: expected 2 fields, saw 3\\nSkipping line 737409: expected 2 fields, saw 3\\nSkipping line 747523: expected 2 fields, saw 3\\nSkipping line 757058: expected 2 fields, saw 5\\nSkipping line 757633: expected 2 fields, saw 3\\nSkipping line 757676: expected 2 fields, saw 3\\nSkipping line 763515: expected 2 fields, saw 3\\nSkipping line 763578: expected 2 fields, saw 3\\nSkipping line 765493: expected 2 fields, saw 3\\nSkipping line 765499: expected 2 fields, saw 3\\nSkipping line 765505: expected 2 fields, saw 3\\nSkipping line 772480: expected 2 fields, saw 4\\nSkipping line 772749: expected 2 fields, saw 3\\nSkipping line 776734: expected 2 fields, saw 3\\nSkipping line 779162: expected 2 fields, saw 3\\nSkipping line 782498: expected 2 fields, saw 3\\nSkipping line 783085: expected 2 fields, saw 3\\n'\n",
            "b'Skipping line 789720: expected 2 fields, saw 3\\nSkipping line 792260: expected 2 fields, saw 3\\nSkipping line 795363: expected 2 fields, saw 3\\nSkipping line 797881: expected 2 fields, saw 3\\nSkipping line 797944: expected 2 fields, saw 3\\nSkipping line 797954: expected 2 fields, saw 3\\nSkipping line 798208: expected 2 fields, saw 3\\nSkipping line 798317: expected 2 fields, saw 3\\nSkipping line 799044: expected 2 fields, saw 3\\nSkipping line 815271: expected 2 fields, saw 3\\nSkipping line 841382: expected 2 fields, saw 3\\nSkipping line 850295: expected 2 fields, saw 3\\nSkipping line 854136: expected 2 fields, saw 3\\nSkipping line 866183: expected 2 fields, saw 4\\nSkipping line 867046: expected 2 fields, saw 3\\nSkipping line 870042: expected 2 fields, saw 3\\nSkipping line 870489: expected 2 fields, saw 3\\nSkipping line 870495: expected 2 fields, saw 3\\nSkipping line 870807: expected 2 fields, saw 3\\nSkipping line 882848: expected 2 fields, saw 3\\nSkipping line 888107: expected 2 fields, saw 4\\nSkipping line 897642: expected 2 fields, saw 3\\nSkipping line 898876: expected 2 fields, saw 3\\nSkipping line 911172: expected 2 fields, saw 3\\nSkipping line 926867: expected 2 fields, saw 3\\nSkipping line 927116: expected 2 fields, saw 3\\nSkipping line 928957: expected 2 fields, saw 3\\nSkipping line 931386: expected 2 fields, saw 3\\nSkipping line 942694: expected 2 fields, saw 3\\nSkipping line 952659: expected 2 fields, saw 3\\nSkipping line 982782: expected 2 fields, saw 4\\nSkipping line 986009: expected 2 fields, saw 3\\nSkipping line 996264: expected 2 fields, saw 4\\nSkipping line 996313: expected 2 fields, saw 3\\nSkipping line 996452: expected 2 fields, saw 4\\nSkipping line 1006995: expected 2 fields, saw 4\\nSkipping line 1011642: expected 2 fields, saw 3\\nSkipping line 1020858: expected 2 fields, saw 3\\nSkipping line 1022711: expected 2 fields, saw 4\\nSkipping line 1022772: expected 2 fields, saw 3\\nSkipping line 1026469: expected 2 fields, saw 3\\nSkipping line 1039287: expected 2 fields, saw 3\\nSkipping line 1039289: expected 2 fields, saw 3\\nSkipping line 1039297: expected 2 fields, saw 3\\nSkipping line 1039403: expected 2 fields, saw 3\\nSkipping line 1039418: expected 2 fields, saw 3\\n'\n",
            "b'Skipping line 1051842: expected 2 fields, saw 3\\nSkipping line 1060185: expected 2 fields, saw 3\\nSkipping line 1064949: expected 2 fields, saw 3\\nSkipping line 1068643: expected 2 fields, saw 4\\nSkipping line 1072368: expected 2 fields, saw 3\\nSkipping line 1072539: expected 2 fields, saw 3\\nSkipping line 1072546: expected 2 fields, saw 3\\nSkipping line 1072563: expected 2 fields, saw 3\\nSkipping line 1072566: expected 2 fields, saw 3\\nSkipping line 1077559: expected 2 fields, saw 3\\nSkipping line 1084019: expected 2 fields, saw 3\\nSkipping line 1084820: expected 2 fields, saw 3\\nSkipping line 1101575: expected 2 fields, saw 4\\nSkipping line 1109990: expected 2 fields, saw 4\\nSkipping line 1114371: expected 2 fields, saw 3\\nSkipping line 1124637: expected 2 fields, saw 3\\nSkipping line 1135406: expected 2 fields, saw 3\\nSkipping line 1137798: expected 2 fields, saw 3\\nSkipping line 1140361: expected 2 fields, saw 3\\nSkipping line 1148174: expected 2 fields, saw 3\\nSkipping line 1148239: expected 2 fields, saw 3\\nSkipping line 1149419: expected 2 fields, saw 3\\nSkipping line 1157637: expected 2 fields, saw 3\\nSkipping line 1159691: expected 2 fields, saw 3\\nSkipping line 1160021: expected 2 fields, saw 3\\nSkipping line 1160175: expected 2 fields, saw 3\\nSkipping line 1160805: expected 2 fields, saw 3\\nSkipping line 1160855: expected 2 fields, saw 3\\nSkipping line 1170332: expected 2 fields, saw 3\\nSkipping line 1179613: expected 2 fields, saw 3\\nSkipping line 1180363: expected 2 fields, saw 4\\nSkipping line 1181373: expected 2 fields, saw 3\\nSkipping line 1183924: expected 2 fields, saw 3\\nSkipping line 1186800: expected 2 fields, saw 3\\nSkipping line 1189149: expected 2 fields, saw 3\\nSkipping line 1195115: expected 2 fields, saw 4\\nSkipping line 1195364: expected 2 fields, saw 3\\nSkipping line 1201000: expected 2 fields, saw 3\\nSkipping line 1201265: expected 2 fields, saw 3\\nSkipping line 1203080: expected 2 fields, saw 4\\nSkipping line 1209985: expected 2 fields, saw 3\\nSkipping line 1219043: expected 2 fields, saw 3\\nSkipping line 1220907: expected 2 fields, saw 3\\nSkipping line 1228054: expected 2 fields, saw 3\\nSkipping line 1230013: expected 2 fields, saw 3\\nSkipping line 1230083: expected 2 fields, saw 4\\nSkipping line 1234438: expected 2 fields, saw 4\\nSkipping line 1235689: expected 2 fields, saw 3\\nSkipping line 1244383: expected 2 fields, saw 3\\nSkipping line 1246153: expected 2 fields, saw 3\\nSkipping line 1246856: expected 2 fields, saw 3\\nSkipping line 1252067: expected 2 fields, saw 4\\nSkipping line 1252662: expected 2 fields, saw 3\\nSkipping line 1253663: expected 2 fields, saw 3\\nSkipping line 1263410: expected 2 fields, saw 3\\nSkipping line 1268901: expected 2 fields, saw 3\\nSkipping line 1269067: expected 2 fields, saw 4\\nSkipping line 1269070: expected 2 fields, saw 4\\nSkipping line 1272391: expected 2 fields, saw 3\\nSkipping line 1274071: expected 2 fields, saw 3\\nSkipping line 1276154: expected 2 fields, saw 3\\nSkipping line 1290118: expected 2 fields, saw 3\\nSkipping line 1303534: expected 2 fields, saw 4\\n'\n",
            "b'Skipping line 1318387: expected 2 fields, saw 3\\nSkipping line 1320993: expected 2 fields, saw 3\\nSkipping line 1343901: expected 2 fields, saw 3\\nSkipping line 1350162: expected 2 fields, saw 3\\nSkipping line 1355482: expected 2 fields, saw 3\\nSkipping line 1357263: expected 2 fields, saw 3\\nSkipping line 1363252: expected 2 fields, saw 3\\nSkipping line 1364813: expected 2 fields, saw 3\\nSkipping line 1374515: expected 2 fields, saw 3\\nSkipping line 1376516: expected 2 fields, saw 4\\nSkipping line 1389757: expected 2 fields, saw 3\\nSkipping line 1390222: expected 2 fields, saw 3\\nSkipping line 1398389: expected 2 fields, saw 3\\nSkipping line 1398409: expected 2 fields, saw 8\\nSkipping line 1400212: expected 2 fields, saw 4\\nSkipping line 1402292: expected 2 fields, saw 3\\nSkipping line 1404011: expected 2 fields, saw 3\\nSkipping line 1405816: expected 2 fields, saw 3\\nSkipping line 1408427: expected 2 fields, saw 3\\nSkipping line 1412737: expected 2 fields, saw 3\\nSkipping line 1420652: expected 2 fields, saw 4\\nSkipping line 1429570: expected 2 fields, saw 3\\nSkipping line 1435979: expected 2 fields, saw 3\\nSkipping line 1439670: expected 2 fields, saw 3\\nSkipping line 1448136: expected 2 fields, saw 3\\nSkipping line 1450737: expected 2 fields, saw 3\\nSkipping line 1466477: expected 2 fields, saw 3\\nSkipping line 1477541: expected 2 fields, saw 3\\nSkipping line 1477552: expected 2 fields, saw 3\\nSkipping line 1478804: expected 2 fields, saw 3\\nSkipping line 1482100: expected 2 fields, saw 3\\nSkipping line 1492816: expected 2 fields, saw 3\\nSkipping line 1509406: expected 2 fields, saw 3\\nSkipping line 1514816: expected 2 fields, saw 4\\nSkipping line 1516055: expected 2 fields, saw 3\\nSkipping line 1517718: expected 2 fields, saw 3\\nSkipping line 1518532: expected 2 fields, saw 3\\nSkipping line 1529795: expected 2 fields, saw 3\\nSkipping line 1530540: expected 2 fields, saw 3\\nSkipping line 1531031: expected 2 fields, saw 4\\nSkipping line 1531061: expected 2 fields, saw 3\\nSkipping line 1531531: expected 2 fields, saw 3\\nSkipping line 1531723: expected 2 fields, saw 4\\nSkipping line 1532416: expected 2 fields, saw 3\\nSkipping line 1535183: expected 2 fields, saw 3\\nSkipping line 1544708: expected 2 fields, saw 3\\nSkipping line 1544781: expected 2 fields, saw 3\\nSkipping line 1544866: expected 2 fields, saw 3\\nSkipping line 1546175: expected 2 fields, saw 3\\nSkipping line 1548346: expected 2 fields, saw 3\\nSkipping line 1552821: expected 2 fields, saw 3\\nSkipping line 1556082: expected 2 fields, saw 3\\n'\n",
            "b'Skipping line 1576983: expected 2 fields, saw 3\\nSkipping line 1577987: expected 2 fields, saw 3\\nSkipping line 1582836: expected 2 fields, saw 3\\nSkipping line 1583016: expected 2 fields, saw 3\\nSkipping line 1595203: expected 2 fields, saw 3\\nSkipping line 1595659: expected 2 fields, saw 3\\nSkipping line 1610293: expected 2 fields, saw 4\\nSkipping line 1617619: expected 2 fields, saw 3\\nSkipping line 1619177: expected 2 fields, saw 3\\nSkipping line 1619383: expected 2 fields, saw 3\\nSkipping line 1623429: expected 2 fields, saw 3\\nSkipping line 1625577: expected 2 fields, saw 3\\nSkipping line 1626350: expected 2 fields, saw 3\\nSkipping line 1638479: expected 2 fields, saw 3\\nSkipping line 1640663: expected 2 fields, saw 3\\nSkipping line 1653918: expected 2 fields, saw 3\\nSkipping line 1655058: expected 2 fields, saw 3\\nSkipping line 1674339: expected 2 fields, saw 3\\nSkipping line 1682216: expected 2 fields, saw 3\\nSkipping line 1688367: expected 2 fields, saw 3\\nSkipping line 1693832: expected 2 fields, saw 3\\nSkipping line 1696078: expected 2 fields, saw 3\\nSkipping line 1713941: expected 2 fields, saw 3\\nSkipping line 1726603: expected 2 fields, saw 3\\nSkipping line 1756716: expected 2 fields, saw 3\\nSkipping line 1760865: expected 2 fields, saw 3\\nSkipping line 1762267: expected 2 fields, saw 3\\nSkipping line 1763307: expected 2 fields, saw 3\\nSkipping line 1768895: expected 2 fields, saw 3\\nSkipping line 1780110: expected 2 fields, saw 3\\nSkipping line 1780630: expected 2 fields, saw 4\\nSkipping line 1780727: expected 2 fields, saw 3\\nSkipping line 1791177: expected 2 fields, saw 5\\nSkipping line 1791609: expected 2 fields, saw 3\\nSkipping line 1802110: expected 2 fields, saw 3\\nSkipping line 1802393: expected 2 fields, saw 3\\nSkipping line 1807414: expected 2 fields, saw 3\\nSkipping line 1809915: expected 2 fields, saw 4\\nSkipping line 1812608: expected 2 fields, saw 3\\nSkipping line 1820631: expected 2 fields, saw 3\\n'\n",
            "b'Skipping line 1838458: expected 2 fields, saw 3\\nSkipping line 1841957: expected 2 fields, saw 3\\nSkipping line 1845792: expected 2 fields, saw 3\\nSkipping line 1852471: expected 2 fields, saw 3\\nSkipping line 1852964: expected 2 fields, saw 3\\nSkipping line 1858935: expected 2 fields, saw 4\\nSkipping line 1865782: expected 2 fields, saw 6\\nSkipping line 1865837: expected 2 fields, saw 3\\nSkipping line 1865838: expected 2 fields, saw 3\\nSkipping line 1895624: expected 2 fields, saw 3\\nSkipping line 1895834: expected 2 fields, saw 3\\nSkipping line 1895919: expected 2 fields, saw 3\\nSkipping line 1897155: expected 2 fields, saw 3\\nSkipping line 1907422: expected 2 fields, saw 3\\nSkipping line 1907942: expected 2 fields, saw 3\\nSkipping line 1908518: expected 2 fields, saw 3\\nSkipping line 1912043: expected 2 fields, saw 6\\nSkipping line 1912046: expected 2 fields, saw 3\\nSkipping line 1919144: expected 2 fields, saw 3\\nSkipping line 1929932: expected 2 fields, saw 4\\nSkipping line 1931697: expected 2 fields, saw 3\\nSkipping line 1931849: expected 2 fields, saw 3\\nSkipping line 1931873: expected 2 fields, saw 3\\nSkipping line 1941557: expected 2 fields, saw 3\\nSkipping line 1943094: expected 2 fields, saw 3\\nSkipping line 1945756: expected 2 fields, saw 3\\nSkipping line 1962819: expected 2 fields, saw 3\\nSkipping line 1968665: expected 2 fields, saw 4\\nSkipping line 1972538: expected 2 fields, saw 4\\nSkipping line 1984287: expected 2 fields, saw 3\\nSkipping line 1991722: expected 2 fields, saw 3\\nSkipping line 1993981: expected 2 fields, saw 3\\nSkipping line 1995394: expected 2 fields, saw 4\\nSkipping line 1997403: expected 2 fields, saw 3\\nSkipping line 1997459: expected 2 fields, saw 5\\nSkipping line 2004870: expected 2 fields, saw 4\\nSkipping line 2013628: expected 2 fields, saw 3\\nSkipping line 2016324: expected 2 fields, saw 3\\nSkipping line 2019170: expected 2 fields, saw 3\\nSkipping line 2022186: expected 2 fields, saw 3\\nSkipping line 2022819: expected 2 fields, saw 3\\nSkipping line 2023162: expected 2 fields, saw 3\\nSkipping line 2026592: expected 2 fields, saw 3\\nSkipping line 2026686: expected 2 fields, saw 3\\nSkipping line 2030771: expected 2 fields, saw 3\\nSkipping line 2035214: expected 2 fields, saw 3\\nSkipping line 2036008: expected 2 fields, saw 3\\nSkipping line 2039508: expected 2 fields, saw 3\\nSkipping line 2051148: expected 2 fields, saw 3\\nSkipping line 2051443: expected 2 fields, saw 3\\nSkipping line 2052756: expected 2 fields, saw 3\\nSkipping line 2059816: expected 2 fields, saw 3\\nSkipping line 2074336: expected 2 fields, saw 3\\nSkipping line 2076096: expected 2 fields, saw 3\\nSkipping line 2078901: expected 2 fields, saw 3\\nSkipping line 2080197: expected 2 fields, saw 3\\nSkipping line 2084262: expected 2 fields, saw 3\\nSkipping line 2087967: expected 2 fields, saw 3\\nSkipping line 2092001: expected 2 fields, saw 3\\nSkipping line 2096903: expected 2 fields, saw 3\\n'\n",
            "b'Skipping line 2106011: expected 2 fields, saw 3\\nSkipping line 2107330: expected 2 fields, saw 3\\nSkipping line 2111707: expected 2 fields, saw 4\\nSkipping line 2112370: expected 2 fields, saw 3\\nSkipping line 2112835: expected 2 fields, saw 4\\nSkipping line 2113144: expected 2 fields, saw 3\\nSkipping line 2114349: expected 2 fields, saw 3\\nSkipping line 2126928: expected 2 fields, saw 3\\nSkipping line 2133500: expected 2 fields, saw 3\\nSkipping line 2133640: expected 2 fields, saw 3\\nSkipping line 2133641: expected 2 fields, saw 3\\nSkipping line 2151593: expected 2 fields, saw 3\\nSkipping line 2156061: expected 2 fields, saw 3\\nSkipping line 2162952: expected 2 fields, saw 3\\nSkipping line 2163590: expected 2 fields, saw 3\\nSkipping line 2185008: expected 2 fields, saw 3\\nSkipping line 2187246: expected 2 fields, saw 3\\nSkipping line 2187658: expected 2 fields, saw 3\\nSkipping line 2189211: expected 2 fields, saw 3\\nSkipping line 2192829: expected 2 fields, saw 3\\nSkipping line 2193133: expected 2 fields, saw 4\\nSkipping line 2193638: expected 2 fields, saw 3\\nSkipping line 2195927: expected 2 fields, saw 3\\nSkipping line 2198653: expected 2 fields, saw 3\\nSkipping line 2203193: expected 2 fields, saw 3\\nSkipping line 2203272: expected 2 fields, saw 3\\nSkipping line 2203333: expected 2 fields, saw 3\\nSkipping line 2204111: expected 2 fields, saw 3\\nSkipping line 2204235: expected 2 fields, saw 3\\nSkipping line 2206012: expected 2 fields, saw 4\\nSkipping line 2206930: expected 2 fields, saw 3\\nSkipping line 2213231: expected 2 fields, saw 3\\nSkipping line 2218335: expected 2 fields, saw 3\\nSkipping line 2219176: expected 2 fields, saw 3\\nSkipping line 2225591: expected 2 fields, saw 3\\nSkipping line 2234396: expected 2 fields, saw 3\\nSkipping line 2245508: expected 2 fields, saw 3\\nSkipping line 2259924: expected 2 fields, saw 3\\nSkipping line 2259999: expected 2 fields, saw 3\\nSkipping line 2263358: expected 2 fields, saw 3\\nSkipping line 2266539: expected 2 fields, saw 3\\nSkipping line 2271279: expected 2 fields, saw 3\\nSkipping line 2276044: expected 2 fields, saw 3\\nSkipping line 2287511: expected 2 fields, saw 4\\nSkipping line 2296135: expected 2 fields, saw 3\\nSkipping line 2301885: expected 2 fields, saw 3\\nSkipping line 2302463: expected 2 fields, saw 3\\nSkipping line 2312957: expected 2 fields, saw 4\\nSkipping line 2312973: expected 2 fields, saw 3\\nSkipping line 2317166: expected 2 fields, saw 3\\nSkipping line 2318845: expected 2 fields, saw 4\\nSkipping line 2331908: expected 2 fields, saw 3\\n'\n"
          ]
        }
      ],
      "source": [
        "df = pd.read_table('/content/drive/MyDrive/c4_200m/clang8_source_target_en.spacy_tokenized.tsv', error_bad_lines=False)\n",
        "df.columns = [\"input\", \"output\"]\n",
        "df = df.dropna()\n",
        "df = df[0:100000]"
      ]
    },
    {
      "cell_type": "code",
      "execution_count": 14,
      "metadata": {
        "colab": {
          "base_uri": "https://localhost:8080/"
        },
        "id": "8AcvjhlVfPe2",
        "outputId": "d50d4525-3f01-479b-c572-57a275df1c90"
      },
      "outputs": [
        {
          "output_type": "stream",
          "name": "stdout",
          "text": [
            "input     0\n",
            "output    0\n",
            "dtype: int64\n",
            "(100000, 2)\n"
          ]
        }
      ],
      "source": [
        "print(df.isna().sum())\n",
        "df.head()\n",
        "print(df.shape)"
      ]
    },
    {
      "cell_type": "code",
      "execution_count": 15,
      "metadata": {
        "id": "6ANFcc6SE0p2"
      },
      "outputs": [],
      "source": [
        "from transformers import (\n",
        "    T5ForConditionalGeneration, T5Tokenizer, \n",
        "    Seq2SeqTrainingArguments, Seq2SeqTrainer, DataCollatorForSeq2Seq\n",
        "  )\n",
        "\n",
        "from torch.utils.data import Dataset, DataLoader"
      ]
    },
    {
      "cell_type": "code",
      "execution_count": 16,
      "metadata": {
        "colab": {
          "base_uri": "https://localhost:8080/"
        },
        "id": "35po7q9CE57P",
        "outputId": "7ba095fa-bf27-4802-a8ed-88ec0749fe38"
      },
      "outputs": [
        {
          "output_type": "stream",
          "name": "stderr",
          "text": [
            "/usr/local/lib/python3.9/dist-packages/transformers/models/t5/tokenization_t5.py:163: FutureWarning: This tokenizer was incorrectly instantiated with a model max length of 512 which will be corrected in Transformers v5.\n",
            "For now, this behavior is kept to avoid breaking backwards compatibility when padding/encoding with `truncation is True`.\n",
            "- Be aware that you SHOULD NOT rely on t5-base automatically truncating your input to 512 when padding/encoding.\n",
            "- If you want to encode/pad to sequences longer than 512 you can either instantiate this tokenizer with `model_max_length` or pass `max_length` when encoding/padding.\n",
            "- To avoid this warning, please instantiate this tokenizer with `model_max_length` set to your preferred value.\n",
            "  warnings.warn(\n"
          ]
        }
      ],
      "source": [
        "model_name = 't5-base'\n",
        "tokenizer = T5Tokenizer.from_pretrained(model_name)\n",
        "model = T5ForConditionalGeneration.from_pretrained(model_name)"
      ]
    },
    {
      "cell_type": "code",
      "execution_count": 17,
      "metadata": {
        "id": "a75jy7E1igUi"
      },
      "outputs": [],
      "source": [
        "def calc_token_len(example):\n",
        "    return len(tokenizer(example).input_ids)"
      ]
    },
    {
      "cell_type": "code",
      "execution_count": 18,
      "metadata": {
        "colab": {
          "base_uri": "https://localhost:8080/"
        },
        "id": "UyMhxBbjYN-u",
        "outputId": "f577621d-6b39-4bc5-eb74-3f865248e3ef"
      },
      "outputs": [
        {
          "output_type": "execute_result",
          "data": {
            "text/plain": [
              "((90000, 2), (10000, 2))"
            ]
          },
          "metadata": {},
          "execution_count": 18
        }
      ],
      "source": [
        "from sklearn.model_selection import train_test_split\n",
        "train_df, test_df = train_test_split(df, test_size=0.10, shuffle=True)\n",
        "train_df.shape, test_df.shape"
      ]
    },
    {
      "cell_type": "code",
      "execution_count": 19,
      "metadata": {
        "id": "uruzAQuujAeA"
      },
      "outputs": [],
      "source": [
        "test_df['input_token_len'] = test_df['input'].apply(calc_token_len)"
      ]
    },
    {
      "cell_type": "code",
      "execution_count": 20,
      "metadata": {
        "colab": {
          "base_uri": "https://localhost:8080/",
          "height": 206
        },
        "id": "oNvjbMF3jWkW",
        "outputId": "bd0dd6f3-da6b-4950-c555-0659f83fb65b"
      },
      "outputs": [
        {
          "output_type": "execute_result",
          "data": {
            "text/plain": [
              "                                                                             input  \\\n",
              "75796                      Why Russians are difficult to understand English speech   \n",
              "80260                   I 'm going to have a dinner with my friend and I 'm late .   \n",
              "19880  Finally , I decided to go a small busty salon because it opens till 11 pm .   \n",
              "76774                                                                    My letter   \n",
              "93088                      This site is great for us to study foreigne languages .   \n",
              "\n",
              "                                                                              output  \\\n",
              "75796                    Why Russians find it difficult to understand English speech   \n",
              "80260                       I 'm going to have dinner with my friend and I 'm late .   \n",
              "19880  Finally , I decided to go to a small busy salon because it opens till 11 pm .   \n",
              "76774                                                                      My letter   \n",
              "93088                         This site is great for us to study foreign languages .   \n",
              "\n",
              "       input_token_len  \n",
              "75796               10  \n",
              "80260               22  \n",
              "19880               23  \n",
              "76774                3  \n",
              "93088               14  "
            ],
            "text/html": [
              "\n",
              "  <div id=\"df-22713f5c-b063-4318-883f-8cef4f751f66\">\n",
              "    <div class=\"colab-df-container\">\n",
              "      <div>\n",
              "<style scoped>\n",
              "    .dataframe tbody tr th:only-of-type {\n",
              "        vertical-align: middle;\n",
              "    }\n",
              "\n",
              "    .dataframe tbody tr th {\n",
              "        vertical-align: top;\n",
              "    }\n",
              "\n",
              "    .dataframe thead th {\n",
              "        text-align: right;\n",
              "    }\n",
              "</style>\n",
              "<table border=\"1\" class=\"dataframe\">\n",
              "  <thead>\n",
              "    <tr style=\"text-align: right;\">\n",
              "      <th></th>\n",
              "      <th>input</th>\n",
              "      <th>output</th>\n",
              "      <th>input_token_len</th>\n",
              "    </tr>\n",
              "  </thead>\n",
              "  <tbody>\n",
              "    <tr>\n",
              "      <th>75796</th>\n",
              "      <td>Why Russians are difficult to understand English speech</td>\n",
              "      <td>Why Russians find it difficult to understand English speech</td>\n",
              "      <td>10</td>\n",
              "    </tr>\n",
              "    <tr>\n",
              "      <th>80260</th>\n",
              "      <td>I 'm going to have a dinner with my friend and I 'm late .</td>\n",
              "      <td>I 'm going to have dinner with my friend and I 'm late .</td>\n",
              "      <td>22</td>\n",
              "    </tr>\n",
              "    <tr>\n",
              "      <th>19880</th>\n",
              "      <td>Finally , I decided to go a small busty salon because it opens till 11 pm .</td>\n",
              "      <td>Finally , I decided to go to a small busy salon because it opens till 11 pm .</td>\n",
              "      <td>23</td>\n",
              "    </tr>\n",
              "    <tr>\n",
              "      <th>76774</th>\n",
              "      <td>My letter</td>\n",
              "      <td>My letter</td>\n",
              "      <td>3</td>\n",
              "    </tr>\n",
              "    <tr>\n",
              "      <th>93088</th>\n",
              "      <td>This site is great for us to study foreigne languages .</td>\n",
              "      <td>This site is great for us to study foreign languages .</td>\n",
              "      <td>14</td>\n",
              "    </tr>\n",
              "  </tbody>\n",
              "</table>\n",
              "</div>\n",
              "      <button class=\"colab-df-convert\" onclick=\"convertToInteractive('df-22713f5c-b063-4318-883f-8cef4f751f66')\"\n",
              "              title=\"Convert this dataframe to an interactive table.\"\n",
              "              style=\"display:none;\">\n",
              "        \n",
              "  <svg xmlns=\"http://www.w3.org/2000/svg\" height=\"24px\"viewBox=\"0 0 24 24\"\n",
              "       width=\"24px\">\n",
              "    <path d=\"M0 0h24v24H0V0z\" fill=\"none\"/>\n",
              "    <path d=\"M18.56 5.44l.94 2.06.94-2.06 2.06-.94-2.06-.94-.94-2.06-.94 2.06-2.06.94zm-11 1L8.5 8.5l.94-2.06 2.06-.94-2.06-.94L8.5 2.5l-.94 2.06-2.06.94zm10 10l.94 2.06.94-2.06 2.06-.94-2.06-.94-.94-2.06-.94 2.06-2.06.94z\"/><path d=\"M17.41 7.96l-1.37-1.37c-.4-.4-.92-.59-1.43-.59-.52 0-1.04.2-1.43.59L10.3 9.45l-7.72 7.72c-.78.78-.78 2.05 0 2.83L4 21.41c.39.39.9.59 1.41.59.51 0 1.02-.2 1.41-.59l7.78-7.78 2.81-2.81c.8-.78.8-2.07 0-2.86zM5.41 20L4 18.59l7.72-7.72 1.47 1.35L5.41 20z\"/>\n",
              "  </svg>\n",
              "      </button>\n",
              "      \n",
              "  <style>\n",
              "    .colab-df-container {\n",
              "      display:flex;\n",
              "      flex-wrap:wrap;\n",
              "      gap: 12px;\n",
              "    }\n",
              "\n",
              "    .colab-df-convert {\n",
              "      background-color: #E8F0FE;\n",
              "      border: none;\n",
              "      border-radius: 50%;\n",
              "      cursor: pointer;\n",
              "      display: none;\n",
              "      fill: #1967D2;\n",
              "      height: 32px;\n",
              "      padding: 0 0 0 0;\n",
              "      width: 32px;\n",
              "    }\n",
              "\n",
              "    .colab-df-convert:hover {\n",
              "      background-color: #E2EBFA;\n",
              "      box-shadow: 0px 1px 2px rgba(60, 64, 67, 0.3), 0px 1px 3px 1px rgba(60, 64, 67, 0.15);\n",
              "      fill: #174EA6;\n",
              "    }\n",
              "\n",
              "    [theme=dark] .colab-df-convert {\n",
              "      background-color: #3B4455;\n",
              "      fill: #D2E3FC;\n",
              "    }\n",
              "\n",
              "    [theme=dark] .colab-df-convert:hover {\n",
              "      background-color: #434B5C;\n",
              "      box-shadow: 0px 1px 3px 1px rgba(0, 0, 0, 0.15);\n",
              "      filter: drop-shadow(0px 1px 2px rgba(0, 0, 0, 0.3));\n",
              "      fill: #FFFFFF;\n",
              "    }\n",
              "  </style>\n",
              "\n",
              "      <script>\n",
              "        const buttonEl =\n",
              "          document.querySelector('#df-22713f5c-b063-4318-883f-8cef4f751f66 button.colab-df-convert');\n",
              "        buttonEl.style.display =\n",
              "          google.colab.kernel.accessAllowed ? 'block' : 'none';\n",
              "\n",
              "        async function convertToInteractive(key) {\n",
              "          const element = document.querySelector('#df-22713f5c-b063-4318-883f-8cef4f751f66');\n",
              "          const dataTable =\n",
              "            await google.colab.kernel.invokeFunction('convertToInteractive',\n",
              "                                                     [key], {});\n",
              "          if (!dataTable) return;\n",
              "\n",
              "          const docLinkHtml = 'Like what you see? Visit the ' +\n",
              "            '<a target=\"_blank\" href=https://colab.research.google.com/notebooks/data_table.ipynb>data table notebook</a>'\n",
              "            + ' to learn more about interactive tables.';\n",
              "          element.innerHTML = '';\n",
              "          dataTable['output_type'] = 'display_data';\n",
              "          await google.colab.output.renderOutput(dataTable, element);\n",
              "          const docLink = document.createElement('div');\n",
              "          docLink.innerHTML = docLinkHtml;\n",
              "          element.appendChild(docLink);\n",
              "        }\n",
              "      </script>\n",
              "    </div>\n",
              "  </div>\n",
              "  "
            ]
          },
          "metadata": {},
          "execution_count": 20
        }
      ],
      "source": [
        "test_df.head()"
      ]
    },
    {
      "cell_type": "code",
      "execution_count": 21,
      "metadata": {
        "colab": {
          "base_uri": "https://localhost:8080/"
        },
        "id": "Qy3eyFHxjZWm",
        "outputId": "f98af76e-c8c9-47a2-9b11-c39eb322d9a4"
      },
      "outputs": [
        {
          "output_type": "execute_result",
          "data": {
            "text/plain": [
              "count    10000.000000\n",
              "mean        15.527900\n",
              "std          8.995005\n",
              "min          3.000000\n",
              "25%         10.000000\n",
              "50%         14.000000\n",
              "75%         19.000000\n",
              "max        185.000000\n",
              "Name: input_token_len, dtype: float64"
            ]
          },
          "metadata": {},
          "execution_count": 21
        }
      ],
      "source": [
        "test_df['input_token_len'].describe()"
      ]
    },
    {
      "cell_type": "markdown",
      "metadata": {
        "id": "5hz7cdWnr_OO"
      },
      "source": [
        "### We will use a token length of 64 since it will cover the vast majority of examples"
      ]
    },
    {
      "cell_type": "code",
      "execution_count": 22,
      "metadata": {
        "id": "rSvsHw6HeHrl"
      },
      "outputs": [],
      "source": [
        "from datasets import Dataset\n",
        "train_dataset = Dataset.from_pandas(train_df)\n",
        "test_dataset = Dataset.from_pandas(test_df)"
      ]
    },
    {
      "cell_type": "code",
      "execution_count": 23,
      "metadata": {
        "colab": {
          "base_uri": "https://localhost:8080/"
        },
        "id": "XfRhXHBGoiiU",
        "outputId": "36cb81e0-67de-4f88-b811-eb4c5496a7b4"
      },
      "outputs": [
        {
          "output_type": "execute_result",
          "data": {
            "text/plain": [
              "Dataset({\n",
              "    features: ['input', 'output', 'input_token_len', '__index_level_0__'],\n",
              "    num_rows: 10000\n",
              "})"
            ]
          },
          "metadata": {},
          "execution_count": 23
        }
      ],
      "source": [
        "test_dataset"
      ]
    },
    {
      "cell_type": "markdown",
      "metadata": {
        "id": "onckS0qK4kTF"
      },
      "source": [
        "### Load the Dataset"
      ]
    },
    {
      "cell_type": "code",
      "execution_count": 24,
      "metadata": {
        "id": "hDjTyQH75OKH"
      },
      "outputs": [],
      "source": [
        "from torch.utils.data import Dataset, DataLoader\n",
        "class GrammarDataset(Dataset):\n",
        "    def __init__(self, dataset, tokenizer,print_text=False):         \n",
        "        self.dataset = dataset\n",
        "        self.pad_to_max_length = False\n",
        "        self.tokenizer = tokenizer\n",
        "        self.print_text = print_text\n",
        "        self.max_len = 64\n",
        "  \n",
        "    def __len__(self):\n",
        "        return len(self.dataset)\n",
        "\n",
        "\n",
        "    def tokenize_data(self, example):\n",
        "        input_, target_ = example['input'], example['output']\n",
        "\n",
        "        # tokenize inputs\n",
        "        tokenized_inputs = tokenizer(input_, pad_to_max_length=self.pad_to_max_length, \n",
        "                                            max_length=self.max_len,\n",
        "                                            return_attention_mask=True)\n",
        "    \n",
        "        tokenized_targets = tokenizer(target_, pad_to_max_length=self.pad_to_max_length, \n",
        "                                            max_length=self.max_len,\n",
        "                                            return_attention_mask=True)\n",
        "\n",
        "        inputs={\"input_ids\": tokenized_inputs['input_ids'],\n",
        "            \"attention_mask\": tokenized_inputs['attention_mask'],\n",
        "            \"labels\": tokenized_targets['input_ids']\n",
        "        }\n",
        "        \n",
        "        return inputs\n",
        "\n",
        "  \n",
        "    def __getitem__(self, index):\n",
        "        inputs = self.tokenize_data(self.dataset[index])\n",
        "        \n",
        "        if self.print_text:\n",
        "            for k in inputs.keys():\n",
        "                print(k, len(inputs[k]))\n",
        "\n",
        "        return inputs"
      ]
    },
    {
      "cell_type": "code",
      "execution_count": 25,
      "metadata": {
        "colab": {
          "base_uri": "https://localhost:8080/"
        },
        "id": "AlkkfaIS64lZ",
        "outputId": "a68c216a-65dc-48eb-e16b-b292896bee7b"
      },
      "outputs": [
        {
          "output_type": "stream",
          "name": "stderr",
          "text": [
            "Truncation was not explicitly activated but `max_length` is provided a specific value, please use `truncation=True` to explicitly truncate examples to max length. Defaulting to 'longest_first' truncation strategy. If you encode pairs of sequences (GLUE-style) with the tokenizer you can select this strategy more precisely by providing a specific strategy to `truncation`.\n"
          ]
        },
        {
          "output_type": "stream",
          "name": "stdout",
          "text": [
            "input_ids 13\n",
            "attention_mask 13\n",
            "labels 12\n",
            "{'input_ids': [8, 625, 1554, 130, 1416, 600, 49, 145, 490, 589, 3, 5, 1], 'attention_mask': [1, 1, 1, 1, 1, 1, 1, 1, 1, 1, 1, 1, 1], 'labels': [37, 625, 1554, 1416, 4038, 145, 8, 490, 589, 3, 5, 1]}\n"
          ]
        }
      ],
      "source": [
        "dataset = GrammarDataset(test_dataset, tokenizer, True)\n",
        "print(dataset[121])"
      ]
    },
    {
      "cell_type": "markdown",
      "metadata": {
        "id": "17tTZNRU9Nbd"
      },
      "source": [
        "### Define Evaluator"
      ]
    },
    {
      "cell_type": "code",
      "execution_count": 26,
      "metadata": {
        "colab": {
          "base_uri": "https://localhost:8080/"
        },
        "id": "dAYzYHBR9Pj2",
        "outputId": "29507dda-5e60-46e3-86a6-15e919bc3158"
      },
      "outputs": [
        {
          "output_type": "stream",
          "name": "stdout",
          "text": [
            "Looking in indexes: https://pypi.org/simple, https://us-python.pkg.dev/colab-wheels/public/simple/\n",
            "Requirement already satisfied: rouge_score in /usr/local/lib/python3.9/dist-packages (0.1.2)\n",
            "Requirement already satisfied: absl-py in /usr/local/lib/python3.9/dist-packages (from rouge_score) (1.4.0)\n",
            "Requirement already satisfied: nltk in /usr/local/lib/python3.9/dist-packages (from rouge_score) (3.8.1)\n",
            "Requirement already satisfied: six>=1.14.0 in /usr/local/lib/python3.9/dist-packages (from rouge_score) (1.16.0)\n",
            "Requirement already satisfied: numpy in /usr/local/lib/python3.9/dist-packages (from rouge_score) (1.22.4)\n",
            "Requirement already satisfied: regex>=2021.8.3 in /usr/local/lib/python3.9/dist-packages (from nltk->rouge_score) (2022.10.31)\n",
            "Requirement already satisfied: tqdm in /usr/local/lib/python3.9/dist-packages (from nltk->rouge_score) (4.65.0)\n",
            "Requirement already satisfied: joblib in /usr/local/lib/python3.9/dist-packages (from nltk->rouge_score) (1.1.1)\n",
            "Requirement already satisfied: click in /usr/local/lib/python3.9/dist-packages (from nltk->rouge_score) (8.1.3)\n"
          ]
        }
      ],
      "source": [
        "!pip install rouge_score"
      ]
    },
    {
      "cell_type": "code",
      "execution_count": 27,
      "metadata": {
        "colab": {
          "base_uri": "https://localhost:8080/"
        },
        "id": "ojPxcaxr9P_o",
        "outputId": "f6cfab54-d7a7-4493-bce8-57b54d33fe9d"
      },
      "outputs": [
        {
          "output_type": "stream",
          "name": "stderr",
          "text": [
            "<ipython-input-27-76fa4d2ef6b0>:2: FutureWarning: load_metric is deprecated and will be removed in the next major version of datasets. Use 'evaluate.load' instead, from the new library 🤗 Evaluate: https://huggingface.co/docs/evaluate\n",
            "  rouge_metric = load_metric(\"rouge\")\n"
          ]
        }
      ],
      "source": [
        "from datasets import load_metric\n",
        "rouge_metric = load_metric(\"rouge\")"
      ]
    },
    {
      "cell_type": "markdown",
      "metadata": {
        "id": "tlkEgSrq9lxJ"
      },
      "source": [
        "### Train Model"
      ]
    },
    {
      "cell_type": "code",
      "execution_count": 28,
      "metadata": {
        "id": "5x4_f3P79oCK"
      },
      "outputs": [],
      "source": [
        "data_collator = DataCollatorForSeq2Seq(tokenizer, model=model, padding='longest', return_tensors='pt')"
      ]
    },
    {
      "cell_type": "code",
      "execution_count": 29,
      "metadata": {
        "id": "rc-YLKSK9pkA"
      },
      "outputs": [],
      "source": [
        "# defining training related arguments\n",
        "batch_size = 16\n",
        "args = Seq2SeqTrainingArguments(output_dir=\"./weights\",\n",
        "                        evaluation_strategy=\"steps\",\n",
        "                        per_device_train_batch_size=batch_size,\n",
        "                        per_device_eval_batch_size=batch_size,\n",
        "                        learning_rate=2e-5,\n",
        "                        num_train_epochs=1,\n",
        "                        weight_decay=0.01,\n",
        "                        save_total_limit=2,\n",
        "                        predict_with_generate=True,\n",
        "                        # fp16 = True,\n",
        "                        gradient_accumulation_steps = 6,\n",
        "                        eval_steps = 500,\n",
        "                        save_steps = 500,\n",
        "                        load_best_model_at_end=True,\n",
        "                        logging_dir=\"/logs\")"
      ]
    },
    {
      "cell_type": "code",
      "execution_count": 30,
      "metadata": {
        "colab": {
          "base_uri": "https://localhost:8080/"
        },
        "id": "YutXc8Q1-DG2",
        "outputId": "acfdebd8-a694-4163-ebe4-d0d0c7655055"
      },
      "outputs": [
        {
          "output_type": "stream",
          "name": "stderr",
          "text": [
            "[nltk_data] Downloading package punkt to /root/nltk_data...\n",
            "[nltk_data]   Package punkt is already up-to-date!\n"
          ]
        }
      ],
      "source": [
        "import nltk\n",
        "nltk.download('punkt')\n",
        "import numpy as np\n",
        "\n",
        "def compute_metrics(eval_pred):\n",
        "    predictions, labels = eval_pred\n",
        "    decoded_preds = tokenizer.batch_decode(predictions, skip_special_tokens=True)\n",
        "    # Replace -100 in the labels as we can't decode them.\n",
        "    labels = np.where(labels != -100, labels, tokenizer.pad_token_id)\n",
        "    decoded_labels = tokenizer.batch_decode(labels, skip_special_tokens=True)\n",
        "    \n",
        "    # Rouge expects a newline after each sentence\n",
        "    decoded_preds = [\"\\n\".join(nltk.sent_tokenize(pred.strip())) for pred in decoded_preds]\n",
        "    decoded_labels = [\"\\n\".join(nltk.sent_tokenize(label.strip())) for label in decoded_labels]\n",
        "    \n",
        "    result = rouge_metric.compute(predictions=decoded_preds, references=decoded_labels, use_stemmer=True)\n",
        "    # Extract a few results\n",
        "    result = {key: value.mid.fmeasure * 100 for key, value in result.items()}\n",
        "    \n",
        "    # Add mean generated length\n",
        "    prediction_lens = [np.count_nonzero(pred != tokenizer.pad_token_id) for pred in predictions]\n",
        "    result[\"gen_len\"] = np.mean(prediction_lens)\n",
        "    return {k: round(v, 4) for k, v in result.items()}"
      ]
    },
    {
      "cell_type": "code",
      "execution_count": 31,
      "metadata": {
        "id": "fyOdMJQW-FFJ"
      },
      "outputs": [],
      "source": [
        "# defining trainer using 🤗\n",
        "trainer = Seq2SeqTrainer(model=model, \n",
        "                args=args, \n",
        "                train_dataset= GrammarDataset(train_dataset, tokenizer),\n",
        "                eval_dataset=GrammarDataset(test_dataset, tokenizer),\n",
        "                tokenizer=tokenizer,\n",
        "                data_collator=data_collator,\n",
        "                compute_metrics=compute_metrics)"
      ]
    },
    {
      "cell_type": "code",
      "execution_count": 32,
      "metadata": {
        "id": "lwA9DXdgte-u"
      },
      "outputs": [],
      "source": [
        "os.environ[\"WANDB_DISABLED\"] = \"true\""
      ]
    },
    {
      "cell_type": "code",
      "execution_count": 33,
      "metadata": {
        "colab": {
          "base_uri": "https://localhost:8080/",
          "height": 248
        },
        "id": "a_JO3oUR-G10",
        "outputId": "031b5e67-37df-41d1-f005-80ac8076a5d6"
      },
      "outputs": [
        {
          "output_type": "stream",
          "name": "stderr",
          "text": [
            "/usr/local/lib/python3.9/dist-packages/transformers/optimization.py:391: FutureWarning: This implementation of AdamW is deprecated and will be removed in a future version. Use the PyTorch implementation torch.optim.AdamW instead, or set `no_deprecation_warning=True` to disable this warning\n",
            "  warnings.warn(\n"
          ]
        },
        {
          "output_type": "display_data",
          "data": {
            "text/plain": [
              "<IPython.core.display.HTML object>"
            ],
            "text/html": [
              "Tracking run with wandb version 0.15.0"
            ]
          },
          "metadata": {}
        },
        {
          "output_type": "display_data",
          "data": {
            "text/plain": [
              "<IPython.core.display.HTML object>"
            ],
            "text/html": [
              "W&B syncing is set to <code>`offline`<code> in this directory.  <br/>Run <code>`wandb online`<code> or set <code>WANDB_MODE=online<code> to enable cloud syncing."
            ]
          },
          "metadata": {}
        },
        {
          "output_type": "display_data",
          "data": {
            "text/plain": [
              "<IPython.core.display.HTML object>"
            ],
            "text/html": [
              "\n",
              "    <div>\n",
              "      \n",
              "      <progress value='937' max='937' style='width:300px; height:20px; vertical-align: middle;'></progress>\n",
              "      [937/937 36:29, Epoch 0/1]\n",
              "    </div>\n",
              "    <table border=\"1\" class=\"dataframe\">\n",
              "  <thead>\n",
              " <tr style=\"text-align: left;\">\n",
              "      <th>Step</th>\n",
              "      <th>Training Loss</th>\n",
              "      <th>Validation Loss</th>\n",
              "      <th>Rouge1</th>\n",
              "      <th>Rouge2</th>\n",
              "      <th>Rougel</th>\n",
              "      <th>Rougelsum</th>\n",
              "      <th>Gen Len</th>\n",
              "    </tr>\n",
              "  </thead>\n",
              "  <tbody>\n",
              "    <tr>\n",
              "      <td>500</td>\n",
              "      <td>0.345700</td>\n",
              "      <td>0.232596</td>\n",
              "      <td>92.326200</td>\n",
              "      <td>86.109300</td>\n",
              "      <td>91.985500</td>\n",
              "      <td>91.980300</td>\n",
              "      <td>13.510800</td>\n",
              "    </tr>\n",
              "  </tbody>\n",
              "</table><p>"
            ]
          },
          "metadata": {}
        },
        {
          "output_type": "execute_result",
          "data": {
            "text/plain": [
              "TrainOutput(global_step=937, training_loss=0.3071673463477396, metrics={'train_runtime': 2201.6147, 'train_samples_per_second': 40.879, 'train_steps_per_second': 0.426, 'total_flos': 3761875428802560.0, 'train_loss': 0.3071673463477396, 'epoch': 1.0})"
            ]
          },
          "metadata": {},
          "execution_count": 33
        }
      ],
      "source": [
        "trainer.train()"
      ]
    },
    {
      "cell_type": "code",
      "execution_count": 34,
      "metadata": {
        "id": "yIkeGbykntXp"
      },
      "outputs": [],
      "source": [
        "trainer.save_model('t5_gec_model_clang')"
      ]
    },
    {
      "cell_type": "code",
      "execution_count": 35,
      "metadata": {
        "colab": {
          "base_uri": "https://localhost:8080/"
        },
        "id": "uvoTQ_e-nyqi",
        "outputId": "670b7f3e-4ae2-4790-c74c-f59bfca1e8e9"
      },
      "outputs": [
        {
          "output_type": "stream",
          "name": "stdout",
          "text": [
            "  adding: t5_gec_model_clang/ (stored 0%)\n",
            "  adding: t5_gec_model_clang/config.json (deflated 62%)\n",
            "  adding: t5_gec_model_clang/training_args.bin (deflated 49%)\n",
            "  adding: t5_gec_model_clang/pytorch_model.bin (deflated 9%)\n",
            "  adding: t5_gec_model_clang/special_tokens_map.json (deflated 86%)\n",
            "  adding: t5_gec_model_clang/tokenizer_config.json (deflated 83%)\n",
            "  adding: t5_gec_model_clang/spiece.model (deflated 48%)\n",
            "  adding: t5_gec_model_clang/generation_config.json (deflated 29%)\n"
          ]
        }
      ],
      "source": [
        "!zip -r 't5_gec_model_clang.zip' 't5_gec_model_clang'"
      ]
    },
    {
      "cell_type": "code",
      "execution_count": 36,
      "metadata": {
        "id": "ZkutuP4Tn3j1"
      },
      "outputs": [],
      "source": [
        "!mv t5_gec_model_clang.zip /content/drive/MyDrive/c4_200m"
      ]
    },
    {
      "cell_type": "markdown",
      "metadata": {
        "id": "DjfvFEgEiXgR"
      },
      "source": [
        "I have uploaded this model to HuggingFace Model Zoo and we can run inference using it"
      ]
    },
    {
      "cell_type": "markdown",
      "metadata": {
        "id": "mQzJE6ybKPaR"
      },
      "source": [
        "## Testing"
      ]
    },
    {
      "cell_type": "code",
      "execution_count": 39,
      "metadata": {
        "id": "lqDyDu5GKOrg"
      },
      "outputs": [],
      "source": [
        "# import torch\n",
        "# from transformers import T5Tokenizer, T5ForConditionalGeneration\n",
        "# model_name = 'deep-learning-analytics/GrammarCorrector'\n",
        "# torch_device = 'cuda' if torch.cuda.is_available() else 'cpu'\n",
        "# tokenizer = T5Tokenizer.from_pretrained(model_name)\n",
        "# model = T5ForConditionalGeneration.from_pretrained(model_name).to(torch_device)\n",
        "\n",
        "def correct_grammar(input_text,num_return_sequences):\n",
        "  batch = tokenizer([input_text],truncation=True,padding='max_length',max_length=64, return_tensors=\"pt\").to('cuda')\n",
        "  translated = model.generate(**batch,max_length=64,num_beams=4, num_return_sequences=num_return_sequences, temperature=1.5)\n",
        "  tgt_text = tokenizer.batch_decode(translated, skip_special_tokens=True)\n",
        "  return tgt_text"
      ]
    },
    {
      "cell_type": "code",
      "execution_count": 42,
      "metadata": {
        "colab": {
          "base_uri": "https://localhost:8080/"
        },
        "id": "mMm8PGpMhYxl",
        "outputId": "382e5a4e-8db8-448d-da46-efb049b5f849"
      },
      "outputs": [
        {
          "output_type": "stream",
          "name": "stdout",
          "text": [
            "['He are moving here.', 'He is moving here.', \"He's moving here.\"]\n"
          ]
        }
      ],
      "source": [
        "text = 'He are moving here.'\n",
        "print(correct_grammar(text, num_return_sequences=3))"
      ]
    },
    {
      "cell_type": "code",
      "execution_count": 45,
      "metadata": {
        "colab": {
          "base_uri": "https://localhost:8080/"
        },
        "id": "8qLMT5DyvsKT",
        "outputId": "e884f825-7a29-4208-eb2b-36336eef37b7"
      },
      "outputs": [
        {
          "output_type": "stream",
          "name": "stdout",
          "text": [
            "['Cat ate milk.', 'Cats drinked milk', 'Cat had a drink of milk', 'Cat drank milk.']\n"
          ]
        }
      ],
      "source": [
        "text = 'Cat drinked milk'\n",
        "print(correct_grammar(text, num_return_sequences=4))"
      ]
    },
    {
      "cell_type": "code",
      "source": [],
      "metadata": {
        "id": "RPwl6tusIIu_"
      },
      "execution_count": null,
      "outputs": []
    }
  ],
  "metadata": {
    "accelerator": "GPU",
    "colab": {
      "machine_shape": "hm",
      "provenance": []
    },
    "kernelspec": {
      "display_name": "Python 3",
      "name": "python3"
    },
    "language_info": {
      "codemirror_mode": {
        "name": "ipython",
        "version": 3
      },
      "file_extension": ".py",
      "mimetype": "text/x-python",
      "name": "python",
      "nbconvert_exporter": "python",
      "pygments_lexer": "ipython3",
      "version": "3.7.16"
    }
  },
  "nbformat": 4,
  "nbformat_minor": 0
}